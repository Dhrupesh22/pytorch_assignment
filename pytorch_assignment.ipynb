{
  "nbformat": 4,
  "nbformat_minor": 0,
  "metadata": {
    "colab": {
      "provenance": []
    },
    "kernelspec": {
      "name": "python3",
      "display_name": "Python 3"
    },
    "language_info": {
      "name": "python"
    }
  },
  "cells": [
    {
      "cell_type": "code",
      "execution_count": 2,
      "metadata": {
        "id": "M2oePYoKsZ8m"
      },
      "outputs": [],
      "source": [
        "import torch\n",
        "import torch.nn as nn\n",
        "import torch.optim as optim\n",
        "import torchvision\n",
        "import torchvision.transforms as transforms\n"
      ]
    },
    {
      "cell_type": "code",
      "source": [
        "batch_size = 64\n",
        "learning_rate = 0.001\n",
        "num_epochs = 10\n"
      ],
      "metadata": {
        "id": "Ad6vwKzdsbKB"
      },
      "execution_count": 3,
      "outputs": []
    },
    {
      "cell_type": "code",
      "source": [
        "transform = transforms.Compose([\n",
        "    transforms.ToTensor(),\n",
        "    transforms.Normalize((0.5,), (0.5,))\n",
        "])"
      ],
      "metadata": {
        "id": "5SmAZkgAsbMf"
      },
      "execution_count": 4,
      "outputs": []
    },
    {
      "cell_type": "code",
      "source": [
        "train_dataset = torchvision.datasets.MNIST(root='./data', train=True, transform=transform, download=True)\n",
        "train_loader = torch.utils.data.DataLoader(dataset=train_dataset, batch_size=batch_size, shuffle=True)\n"
      ],
      "metadata": {
        "colab": {
          "base_uri": "https://localhost:8080/"
        },
        "id": "zINYsTdEsbPH",
        "outputId": "89839543-3956-4007-cd18-4932063f4ebd"
      },
      "execution_count": 5,
      "outputs": [
        {
          "output_type": "stream",
          "name": "stdout",
          "text": [
            "Downloading http://yann.lecun.com/exdb/mnist/train-images-idx3-ubyte.gz\n",
            "Downloading http://yann.lecun.com/exdb/mnist/train-images-idx3-ubyte.gz to ./data/MNIST/raw/train-images-idx3-ubyte.gz\n"
          ]
        },
        {
          "output_type": "stream",
          "name": "stderr",
          "text": [
            "100%|██████████| 9912422/9912422 [00:00<00:00, 95531766.20it/s]\n"
          ]
        },
        {
          "output_type": "stream",
          "name": "stdout",
          "text": [
            "Extracting ./data/MNIST/raw/train-images-idx3-ubyte.gz to ./data/MNIST/raw\n",
            "\n",
            "Downloading http://yann.lecun.com/exdb/mnist/train-labels-idx1-ubyte.gz\n",
            "Downloading http://yann.lecun.com/exdb/mnist/train-labels-idx1-ubyte.gz to ./data/MNIST/raw/train-labels-idx1-ubyte.gz\n"
          ]
        },
        {
          "output_type": "stream",
          "name": "stderr",
          "text": [
            "100%|██████████| 28881/28881 [00:00<00:00, 15047912.28it/s]\n"
          ]
        },
        {
          "output_type": "stream",
          "name": "stdout",
          "text": [
            "Extracting ./data/MNIST/raw/train-labels-idx1-ubyte.gz to ./data/MNIST/raw\n",
            "\n",
            "Downloading http://yann.lecun.com/exdb/mnist/t10k-images-idx3-ubyte.gz\n",
            "Downloading http://yann.lecun.com/exdb/mnist/t10k-images-idx3-ubyte.gz to ./data/MNIST/raw/t10k-images-idx3-ubyte.gz\n"
          ]
        },
        {
          "output_type": "stream",
          "name": "stderr",
          "text": [
            "100%|██████████| 1648877/1648877 [00:00<00:00, 24698200.80it/s]\n"
          ]
        },
        {
          "output_type": "stream",
          "name": "stdout",
          "text": [
            "Extracting ./data/MNIST/raw/t10k-images-idx3-ubyte.gz to ./data/MNIST/raw\n",
            "\n",
            "Downloading http://yann.lecun.com/exdb/mnist/t10k-labels-idx1-ubyte.gz\n",
            "Downloading http://yann.lecun.com/exdb/mnist/t10k-labels-idx1-ubyte.gz to ./data/MNIST/raw/t10k-labels-idx1-ubyte.gz\n"
          ]
        },
        {
          "output_type": "stream",
          "name": "stderr",
          "text": [
            "100%|██████████| 4542/4542 [00:00<00:00, 18441944.60it/s]\n"
          ]
        },
        {
          "output_type": "stream",
          "name": "stdout",
          "text": [
            "Extracting ./data/MNIST/raw/t10k-labels-idx1-ubyte.gz to ./data/MNIST/raw\n",
            "\n"
          ]
        }
      ]
    },
    {
      "cell_type": "code",
      "source": [
        "class ANN(nn.Module):\n",
        "    def __init__(self):\n",
        "        super(ANN, self).__init__()\n",
        "        self.flatten = nn.Flatten()\n",
        "        self.fc1 = nn.Linear(28 * 28, 128)\n",
        "        self.relu = nn.ReLU()\n",
        "        self.fc2 = nn.Linear(128, 10)\n",
        "\n",
        "    def forward(self, x):\n",
        "        x = self.flatten(x)\n",
        "        x = self.fc1(x)\n",
        "        x = self.relu(x)\n",
        "        x = self.fc2(x)\n",
        "        return x"
      ],
      "metadata": {
        "id": "q2iYQ9A-sbSD"
      },
      "execution_count": 6,
      "outputs": []
    },
    {
      "cell_type": "code",
      "source": [
        "model = ANN()"
      ],
      "metadata": {
        "id": "5HDB5qCtsbU8"
      },
      "execution_count": 7,
      "outputs": []
    },
    {
      "cell_type": "code",
      "source": [
        "criterion = nn.CrossEntropyLoss()\n",
        "optimizer = optim.Adam(model.parameters(), lr=learning_rate)"
      ],
      "metadata": {
        "id": "8USUJWcYtehs"
      },
      "execution_count": 8,
      "outputs": []
    },
    {
      "cell_type": "code",
      "source": [
        "for epoch in range(num_epochs):\n",
        "    for i, (images, labels) in enumerate(train_loader):\n",
        "        # Forward pass\n",
        "        outputs = model(images)\n",
        "        loss = criterion(outputs, labels)\n",
        "\n",
        "        # Backpropagation and optimization\n",
        "        optimizer.zero_grad()\n",
        "        loss.backward()\n",
        "        optimizer.step()\n",
        "\n",
        "        if (i+1) % 100 == 0:\n",
        "            print(f'Epoch [{epoch+1}/{num_epochs}], Step [{i+1}/{len(train_loader)}], Loss: {loss.item():.4f}')\n",
        "\n",
        "print('Training Finished')"
      ],
      "metadata": {
        "colab": {
          "base_uri": "https://localhost:8080/"
        },
        "id": "xK1bo087tek6",
        "outputId": "8da417d1-cfa6-4010-b876-67b117667056"
      },
      "execution_count": 10,
      "outputs": [
        {
          "output_type": "stream",
          "name": "stdout",
          "text": [
            "Epoch [1/10], Step [100/938], Loss: 0.3412\n",
            "Epoch [1/10], Step [200/938], Loss: 0.2532\n",
            "Epoch [1/10], Step [300/938], Loss: 0.3364\n",
            "Epoch [1/10], Step [400/938], Loss: 0.2723\n",
            "Epoch [1/10], Step [500/938], Loss: 0.2339\n",
            "Epoch [1/10], Step [600/938], Loss: 0.3000\n",
            "Epoch [1/10], Step [700/938], Loss: 0.1591\n",
            "Epoch [1/10], Step [800/938], Loss: 0.2513\n",
            "Epoch [1/10], Step [900/938], Loss: 0.1760\n",
            "Epoch [2/10], Step [100/938], Loss: 0.1069\n",
            "Epoch [2/10], Step [200/938], Loss: 0.2514\n",
            "Epoch [2/10], Step [300/938], Loss: 0.3573\n",
            "Epoch [2/10], Step [400/938], Loss: 0.3960\n",
            "Epoch [2/10], Step [500/938], Loss: 0.1559\n",
            "Epoch [2/10], Step [600/938], Loss: 0.2274\n",
            "Epoch [2/10], Step [700/938], Loss: 0.1236\n",
            "Epoch [2/10], Step [800/938], Loss: 0.2393\n",
            "Epoch [2/10], Step [900/938], Loss: 0.1400\n",
            "Epoch [3/10], Step [100/938], Loss: 0.1460\n",
            "Epoch [3/10], Step [200/938], Loss: 0.1520\n",
            "Epoch [3/10], Step [300/938], Loss: 0.1640\n",
            "Epoch [3/10], Step [400/938], Loss: 0.2173\n",
            "Epoch [3/10], Step [500/938], Loss: 0.0745\n",
            "Epoch [3/10], Step [600/938], Loss: 0.1273\n",
            "Epoch [3/10], Step [700/938], Loss: 0.0662\n",
            "Epoch [3/10], Step [800/938], Loss: 0.0933\n",
            "Epoch [3/10], Step [900/938], Loss: 0.1308\n",
            "Epoch [4/10], Step [100/938], Loss: 0.1303\n",
            "Epoch [4/10], Step [200/938], Loss: 0.0415\n",
            "Epoch [4/10], Step [300/938], Loss: 0.1767\n",
            "Epoch [4/10], Step [400/938], Loss: 0.1232\n",
            "Epoch [4/10], Step [500/938], Loss: 0.0878\n",
            "Epoch [4/10], Step [600/938], Loss: 0.1692\n",
            "Epoch [4/10], Step [700/938], Loss: 0.1228\n",
            "Epoch [4/10], Step [800/938], Loss: 0.0954\n",
            "Epoch [4/10], Step [900/938], Loss: 0.0490\n",
            "Epoch [5/10], Step [100/938], Loss: 0.1386\n",
            "Epoch [5/10], Step [200/938], Loss: 0.0621\n",
            "Epoch [5/10], Step [300/938], Loss: 0.1246\n",
            "Epoch [5/10], Step [400/938], Loss: 0.0572\n",
            "Epoch [5/10], Step [500/938], Loss: 0.0232\n",
            "Epoch [5/10], Step [600/938], Loss: 0.2575\n",
            "Epoch [5/10], Step [700/938], Loss: 0.0466\n",
            "Epoch [5/10], Step [800/938], Loss: 0.0126\n",
            "Epoch [5/10], Step [900/938], Loss: 0.0497\n",
            "Epoch [6/10], Step [100/938], Loss: 0.0574\n",
            "Epoch [6/10], Step [200/938], Loss: 0.0772\n",
            "Epoch [6/10], Step [300/938], Loss: 0.0137\n",
            "Epoch [6/10], Step [400/938], Loss: 0.0441\n",
            "Epoch [6/10], Step [500/938], Loss: 0.0034\n",
            "Epoch [6/10], Step [600/938], Loss: 0.0969\n",
            "Epoch [6/10], Step [700/938], Loss: 0.1373\n",
            "Epoch [6/10], Step [800/938], Loss: 0.0652\n",
            "Epoch [6/10], Step [900/938], Loss: 0.0649\n",
            "Epoch [7/10], Step [100/938], Loss: 0.1002\n",
            "Epoch [7/10], Step [200/938], Loss: 0.2181\n",
            "Epoch [7/10], Step [300/938], Loss: 0.0513\n",
            "Epoch [7/10], Step [400/938], Loss: 0.0816\n",
            "Epoch [7/10], Step [500/938], Loss: 0.0385\n",
            "Epoch [7/10], Step [600/938], Loss: 0.2022\n",
            "Epoch [7/10], Step [700/938], Loss: 0.0263\n",
            "Epoch [7/10], Step [800/938], Loss: 0.0388\n",
            "Epoch [7/10], Step [900/938], Loss: 0.0152\n",
            "Epoch [8/10], Step [100/938], Loss: 0.0673\n",
            "Epoch [8/10], Step [200/938], Loss: 0.0524\n",
            "Epoch [8/10], Step [300/938], Loss: 0.0213\n",
            "Epoch [8/10], Step [400/938], Loss: 0.2257\n",
            "Epoch [8/10], Step [500/938], Loss: 0.1027\n",
            "Epoch [8/10], Step [600/938], Loss: 0.1261\n",
            "Epoch [8/10], Step [700/938], Loss: 0.0409\n",
            "Epoch [8/10], Step [800/938], Loss: 0.0131\n",
            "Epoch [8/10], Step [900/938], Loss: 0.0871\n",
            "Epoch [9/10], Step [100/938], Loss: 0.1090\n",
            "Epoch [9/10], Step [200/938], Loss: 0.1672\n",
            "Epoch [9/10], Step [300/938], Loss: 0.0596\n",
            "Epoch [9/10], Step [400/938], Loss: 0.0377\n",
            "Epoch [9/10], Step [500/938], Loss: 0.0223\n",
            "Epoch [9/10], Step [600/938], Loss: 0.0206\n",
            "Epoch [9/10], Step [700/938], Loss: 0.0910\n",
            "Epoch [9/10], Step [800/938], Loss: 0.0780\n",
            "Epoch [9/10], Step [900/938], Loss: 0.0475\n",
            "Epoch [10/10], Step [100/938], Loss: 0.1442\n",
            "Epoch [10/10], Step [200/938], Loss: 0.1124\n",
            "Epoch [10/10], Step [300/938], Loss: 0.0789\n",
            "Epoch [10/10], Step [400/938], Loss: 0.0606\n",
            "Epoch [10/10], Step [500/938], Loss: 0.1474\n",
            "Epoch [10/10], Step [600/938], Loss: 0.0132\n",
            "Epoch [10/10], Step [700/938], Loss: 0.0928\n",
            "Epoch [10/10], Step [800/938], Loss: 0.0417\n",
            "Epoch [10/10], Step [900/938], Loss: 0.0602\n",
            "Training Finished\n"
          ]
        }
      ]
    },
    {
      "cell_type": "code",
      "source": [
        "test_dataset = torchvision.datasets.MNIST(root='./data', train=False, transform=transform, download=True)\n",
        "test_loader = torch.utils.data.DataLoader(dataset=test_dataset, batch_size=batch_size, shuffle=False)\n",
        "\n",
        "# Switch model to evaluation mode\n",
        "model.eval()\n",
        "\n",
        "correct = 0\n",
        "total = 0\n",
        "\n",
        "# Disable gradient computation during evaluation\n",
        "with torch.no_grad():\n",
        "    for images, labels in test_loader:\n",
        "        outputs = model(images)\n",
        "        _, predicted = torch.max(outputs.data, 1)  # Get the predicted class for each image\n",
        "        total += labels.size(0)\n",
        "        correct += (predicted == labels).sum().item()\n",
        "\n",
        "print('Accuracy of the network on the 10000 test images: {:.2f}%'.format(100 * correct / total))"
      ],
      "metadata": {
        "colab": {
          "base_uri": "https://localhost:8080/"
        },
        "id": "e8lV9HDhtemn",
        "outputId": "fb1d3c3b-fb01-4f02-d4e5-02fb4e2f1734"
      },
      "execution_count": 12,
      "outputs": [
        {
          "output_type": "stream",
          "name": "stdout",
          "text": [
            "Accuracy of the network on the 10000 test images: 96.95%\n"
          ]
        }
      ]
    },
    {
      "cell_type": "code",
      "source": [],
      "metadata": {
        "id": "119rnjC6t0YT"
      },
      "execution_count": null,
      "outputs": []
    },
    {
      "cell_type": "code",
      "source": [],
      "metadata": {
        "id": "xW_ibi0jt0bl"
      },
      "execution_count": null,
      "outputs": []
    }
  ]
}